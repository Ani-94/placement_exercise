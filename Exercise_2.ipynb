{
 "cells": [
  {
   "cell_type": "code",
   "execution_count": 1,
   "id": "2e146b74",
   "metadata": {},
   "outputs": [],
   "source": [
    "#Demonstrating use of abstract, multiple inheritence and decorat\n",
    "from abc import ABC, abstractmethod"
   ]
  },
  {
   "cell_type": "code",
   "execution_count": 2,
   "id": "0c74059c",
   "metadata": {},
   "outputs": [],
   "source": [
    "class abs_class(ABC):#An abstract class is defined\n",
    "    @abstractmethod  #an abstract method is defined using an abstractmethod decorator whic is layed as \n",
    "                     #a blue print or a format on which rest of the program or code can be devloped on\n",
    "    def example(self):\n",
    "        print('An abstract class')\n",
    "\n",
    "class test(abs_class):\n",
    "    def example(self):\n",
    "        print('An abstract method')"
   ]
  },
  {
   "cell_type": "code",
   "execution_count": 3,
   "id": "7e7d6062",
   "metadata": {},
   "outputs": [
    {
     "name": "stdout",
     "output_type": "stream",
     "text": [
      "An abstract method\n"
     ]
    }
   ],
   "source": [
    "e = test()\n",
    "e.example()# though a common method is developed in the parent and child classes the output of teh child class will be \n",
    "#displayed not the output of the method in the abstract class\n",
    "#"
   ]
  },
  {
   "cell_type": "code",
   "execution_count": 4,
   "id": "24629e45",
   "metadata": {},
   "outputs": [],
   "source": [
    "class abs_clas(ABC):\n",
    "    @abstractmethod\n",
    "    def exampe(self):\n",
    "        print('An abstract class')\n",
    "\n",
    "class test(abs_clas):\n",
    "    def exampe(self):\n",
    "        super().exampe()\n",
    "        print('An abstract method')"
   ]
  },
  {
   "cell_type": "code",
   "execution_count": 5,
   "id": "bb9ed1f8",
   "metadata": {},
   "outputs": [
    {
     "name": "stdout",
     "output_type": "stream",
     "text": [
      "An abstract class\n",
      "An abstract method\n"
     ]
    }
   ],
   "source": [
    "d = test()\n",
    "d.exampe()\n",
    "#by using a function super() the method of the abstract class is displayed along with the results of the child class"
   ]
  },
  {
   "cell_type": "code",
   "execution_count": 6,
   "id": "9bbd3ad6",
   "metadata": {},
   "outputs": [],
   "source": [
    "class ad():\n",
    "    def add():\n",
    "        a = 1\n",
    "        b = 2\n",
    "        return a+b"
   ]
  },
  {
   "cell_type": "code",
   "execution_count": 7,
   "id": "53692ed5",
   "metadata": {},
   "outputs": [],
   "source": [
    "class su():\n",
    "    def sub():\n",
    "        a = 3\n",
    "        b = 4\n",
    "        return a-b"
   ]
  },
  {
   "cell_type": "code",
   "execution_count": 8,
   "id": "6d9caf8b",
   "metadata": {},
   "outputs": [],
   "source": [
    "class mu(ad,su):\n",
    "    pass"
   ]
  },
  {
   "cell_type": "code",
   "execution_count": 9,
   "id": "b59c7617",
   "metadata": {},
   "outputs": [
    {
     "data": {
      "text/plain": [
       "3"
      ]
     },
     "execution_count": 9,
     "metadata": {},
     "output_type": "execute_result"
    }
   ],
   "source": [
    "ca = mu\n",
    "ca.add()"
   ]
  },
  {
   "cell_type": "code",
   "execution_count": 10,
   "id": "42145dad",
   "metadata": {},
   "outputs": [
    {
     "data": {
      "text/plain": [
       "-1"
      ]
     },
     "execution_count": 10,
     "metadata": {},
     "output_type": "execute_result"
    }
   ],
   "source": [
    "\n",
    "ca.sub()"
   ]
  }
 ],
 "metadata": {
  "kernelspec": {
   "display_name": "Python 3",
   "language": "python",
   "name": "python3"
  },
  "language_info": {
   "codemirror_mode": {
    "name": "ipython",
    "version": 3
   },
   "file_extension": ".py",
   "mimetype": "text/x-python",
   "name": "python",
   "nbconvert_exporter": "python",
   "pygments_lexer": "ipython3",
   "version": "3.8.8"
  }
 },
 "nbformat": 4,
 "nbformat_minor": 5
}
