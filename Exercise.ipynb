{
 "cells": [
  {
   "cell_type": "code",
   "execution_count": 1,
   "id": "ed658fee",
   "metadata": {},
   "outputs": [
    {
     "name": "stdout",
     "output_type": "stream",
     "text": [
      "hi there using python\n",
      "python\n",
      "anaconda\n"
     ]
    }
   ],
   "source": [
    "import os\n",
    "\n",
    "\n",
    "f = open('exercise.txt','w')\n",
    "f.close\n",
    "s = input()\n",
    "f = open('exercise.txt','w')\n",
    "f.write(s)\n",
    "f.close()\n",
    "re_with = input() #the word to be replaced with\n",
    "re = input() # the word to replace"
   ]
  },
  {
   "cell_type": "code",
   "execution_count": 2,
   "id": "6653c6cd",
   "metadata": {},
   "outputs": [],
   "source": [
    "def rep(a,b,c):\n",
    "    \"\"\"Replaces a word in the file\"\"\"\n",
    "    with open(a,'r') as f:\n",
    "        file_words = f.read()\n",
    "        replaced_data = file_words.replace(b,c)\n",
    "        with open(r'exercise.txt','w') as f:\n",
    "            f.write(replaced_data)"
   ]
  },
  {
   "cell_type": "code",
   "execution_count": 3,
   "id": "fc4d5391",
   "metadata": {},
   "outputs": [],
   "source": [
    "rep('exercise.txt',re_with, re)"
   ]
  }
 ],
 "metadata": {
  "kernelspec": {
   "display_name": "Python 3",
   "language": "python",
   "name": "python3"
  },
  "language_info": {
   "codemirror_mode": {
    "name": "ipython",
    "version": 3
   },
   "file_extension": ".py",
   "mimetype": "text/x-python",
   "name": "python",
   "nbconvert_exporter": "python",
   "pygments_lexer": "ipython3",
   "version": "3.8.8"
  }
 },
 "nbformat": 4,
 "nbformat_minor": 5
}
